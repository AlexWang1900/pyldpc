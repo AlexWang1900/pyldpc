{
  "cells": [
    {
      "cell_type": "code",
      "execution_count": null,
      "metadata": {
        "collapsed": false
      },
      "outputs": [],
      "source": [
        "%matplotlib inline"
      ]
    },
    {
      "cell_type": "markdown",
      "metadata": {},
      "source": [
        "\n# Parallelization of Log-BP decoding\n\n\nThis example shows how coding and decoding can be done in parallel to speed\nup computations.\n\n"
      ]
    },
    {
      "cell_type": "code",
      "execution_count": null,
      "metadata": {
        "collapsed": false
      },
      "outputs": [],
      "source": [
        "from time import time\n\nimport numpy as np\n\nfrom matplotlib import pyplot as plt\n\nfrom pyldpc import make_ldpc, decode, encode\n\nn = 100\nd_v = 2\nd_c = 5\nseed = 42\nrng = np.random.RandomState(seed)"
      ]
    },
    {
      "cell_type": "markdown",
      "metadata": {},
      "source": [
        "First we create an LDPC code i.e a pair of decoding and coding matrices\nH and G. H is a regular parity-check matrix with d_v ones per row\nand d_c ones per column\n\n"
      ]
    },
    {
      "cell_type": "code",
      "execution_count": null,
      "metadata": {
        "collapsed": false
      },
      "outputs": [],
      "source": [
        "H, G = make_ldpc(n, d_v, d_c, seed=seed, systematic=True, sparse=True)\n\nn, k = G.shape\nprint(\"Number of coded bits:\", k)"
      ]
    },
    {
      "cell_type": "markdown",
      "metadata": {},
      "source": [
        "Now we simulate transmission for different levels of noise and\ncompute the percentage of errors using the bit-error-rate score\nTo parallelize coding and decoding, simply stack the messages as columns:\n\n"
      ]
    },
    {
      "cell_type": "code",
      "execution_count": null,
      "metadata": {
        "collapsed": false
      },
      "outputs": [],
      "source": [
        "n_messages = np.arange(1, 20)\nn_runs = 50\nsnr = 10\ntimes_parallel = []\ntimes_sequential = []\n\nfor pp in n_messages:\n    t_parallel = 0\n    t_seq = 0\n    V = rng.randint(2, size=(k, pp))  # simulate messages\n    Y = encode(G, V, snr, seed=seed)\n\n    for _ in range(n_runs):\n        t = time()\n        decode(H, Y, snr)\n        t_parallel += time() - t\n\n        t = time()\n        for y in Y.T:\n            decode(H, y, snr)\n        t_seq += time() - t\n    times_sequential.append(t_seq / n_runs)\n    times_parallel.append(t_parallel / n_runs)\n\n\nplt.figure()\nplt.plot(n_messages, times_sequential, color=\"indianred\", lw=2,\n         label=\"Sequential\")\nplt.plot(n_messages, times_parallel, color=\"gold\", lw=2, label=\"Parallel\")\nplt.ylabel(\"Time (s)\")\nplt.xlabel(\"# messages\")\nplt.legend()\nplt.show()"
      ]
    }
  ],
  "metadata": {
    "kernelspec": {
      "display_name": "Python 3",
      "language": "python",
      "name": "python3"
    },
    "language_info": {
      "codemirror_mode": {
        "name": "ipython",
        "version": 3
      },
      "file_extension": ".py",
      "mimetype": "text/x-python",
      "name": "python",
      "nbconvert_exporter": "python",
      "pygments_lexer": "ipython3",
      "version": "3.6.8"
    }
  },
  "nbformat": 4,
  "nbformat_minor": 0
}